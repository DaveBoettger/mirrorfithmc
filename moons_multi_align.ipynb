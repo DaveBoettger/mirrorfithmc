{
 "cells": [
  {
   "cell_type": "code",
   "execution_count": 1,
   "metadata": {},
   "outputs": [
    {
     "data": {
      "text/plain": [
       "'/home/dave/dev/PB/Photogrammetry_20181119/Photogrammetry/mirrorfithmc'"
      ]
     },
     "execution_count": 1,
     "metadata": {},
     "output_type": "execute_result"
    }
   ],
   "source": [
    "pwd"
   ]
  },
  {
   "cell_type": "code",
   "execution_count": 1,
   "metadata": {},
   "outputs": [
    {
     "name": "stdout",
     "output_type": "stream",
     "text": [
      "/Users/daveboettger/Google Drive/PbGeneral/Photogrammetry/mirrorfithmc\n"
     ]
    }
   ],
   "source": [
    "cd \"/Users/daveboettger/Google Drive/PbGeneral/Photogrammetry/mirrorfithmc\""
   ]
  },
  {
   "cell_type": "code",
   "execution_count": 1,
   "metadata": {},
   "outputs": [],
   "source": [
    "import sys\n",
    "sys.path.append('.')\n",
    "import numpy as np\n",
    "import seaborn as sns\n",
    "import matplotlib.pyplot as plt\n",
    "import pymc3 as pm\n",
    "import test_cloud_align as tc"
   ]
  },
  {
   "cell_type": "code",
   "execution_count": 2,
   "metadata": {},
   "outputs": [
    {
     "name": "stdout",
     "output_type": "stream",
     "text": [
      "Align_DS2_to_DS1 fitmap is {'tx': True, 'ty': True, 'tz': True, 'rx': True, 'ry': True, 'rz': True, 's': True, 'rescale_errors': True}\n",
      "Align_DS3_to_DS1 fitmap is {'tx': True, 'ty': True, 'tz': True, 'rx': True, 'ry': True, 'rz': True, 's': True, 'rescale_errors': True}\n"
     ]
    }
   ],
   "source": [
    "model=tc.load_multi_model_moons()"
   ]
  },
  {
   "cell_type": "code",
   "execution_count": 3,
   "metadata": {},
   "outputs": [],
   "source": [
    "with model as model:\n",
    "    trace=pm.load_trace('moons_alignments/multigaussianalign_xyzerror/')"
   ]
  },
  {
   "cell_type": "code",
   "execution_count": 4,
   "metadata": {},
   "outputs": [
    {
     "data": {
      "text/plain": [
       "([MultiAlign_error_scale_DS1_lowerbound__,\n",
       "  MultiAlign_error_scale_DS2_lowerbound__,\n",
       "  MultiAlign_error_scale_DS3_lowerbound__,\n",
       "  Align_DS2_to_DS1_tx,\n",
       "  Align_DS2_to_DS1_ty,\n",
       "  Align_DS2_to_DS1_tz,\n",
       "  Align_DS2_to_DS1_rx,\n",
       "  Align_DS2_to_DS1_ry,\n",
       "  Align_DS2_to_DS1_rz,\n",
       "  Align_DS2_to_DS1_s,\n",
       "  Align_DS3_to_DS1_tx,\n",
       "  Align_DS3_to_DS1_ty,\n",
       "  Align_DS3_to_DS1_tz,\n",
       "  Align_DS3_to_DS1_rx,\n",
       "  Align_DS3_to_DS1_ry,\n",
       "  Align_DS3_to_DS1_rz,\n",
       "  Align_DS3_to_DS1_s],\n",
       " ['MultiAlign_error_scale_DS1_lowerbound__',\n",
       "  'MultiAlign_error_scale_DS2_lowerbound__',\n",
       "  'MultiAlign_error_scale_DS3_lowerbound__',\n",
       "  'Align_DS2_to_DS1_tx',\n",
       "  'Align_DS2_to_DS1_ty',\n",
       "  'Align_DS2_to_DS1_tz',\n",
       "  'Align_DS2_to_DS1_rx',\n",
       "  'Align_DS2_to_DS1_ry',\n",
       "  'Align_DS2_to_DS1_rz',\n",
       "  'Align_DS2_to_DS1_s',\n",
       "  'Align_DS3_to_DS1_tx',\n",
       "  'Align_DS3_to_DS1_ty',\n",
       "  'Align_DS3_to_DS1_tz',\n",
       "  'Align_DS3_to_DS1_rx',\n",
       "  'Align_DS3_to_DS1_ry',\n",
       "  'Align_DS3_to_DS1_rz',\n",
       "  'Align_DS3_to_DS1_s',\n",
       "  'MultiAlign_error_scale_DS1',\n",
       "  'MultiAlign_error_scale_DS2',\n",
       "  'MultiAlign_error_scale_DS3'],\n",
       " {'MultiAlign_error_scale_DS1_lowerbound__': array([0., 0., 0.]),\n",
       "  'MultiAlign_error_scale_DS2_lowerbound__': array([0., 0., 0.]),\n",
       "  'MultiAlign_error_scale_DS3_lowerbound__': array([0., 0., 0.]),\n",
       "  'Align_DS2_to_DS1_tx': array(0.),\n",
       "  'Align_DS2_to_DS1_ty': array(0.),\n",
       "  'Align_DS2_to_DS1_tz': array(0.),\n",
       "  'Align_DS2_to_DS1_rx': array(0.),\n",
       "  'Align_DS2_to_DS1_ry': array(0.),\n",
       "  'Align_DS2_to_DS1_rz': array(0.),\n",
       "  'Align_DS2_to_DS1_s': array(100.),\n",
       "  'Align_DS3_to_DS1_tx': array(0.),\n",
       "  'Align_DS3_to_DS1_ty': array(0.),\n",
       "  'Align_DS3_to_DS1_tz': array(0.),\n",
       "  'Align_DS3_to_DS1_rx': array(0.),\n",
       "  'Align_DS3_to_DS1_ry': array(0.),\n",
       "  'Align_DS3_to_DS1_rz': array(0.),\n",
       "  'Align_DS3_to_DS1_s': array(100.)})"
      ]
     },
     "execution_count": 4,
     "metadata": {},
     "output_type": "execute_result"
    }
   ],
   "source": [
    "model.vars,trace.varnames,model.test_point"
   ]
  },
  {
   "cell_type": "code",
   "execution_count": 5,
   "metadata": {},
   "outputs": [],
   "source": [
    "errorscale1=trace.get_values('MultiAlign_error_scale_DS1')"
   ]
  },
  {
   "cell_type": "code",
   "execution_count": 6,
   "metadata": {},
   "outputs": [
    {
     "data": {
      "text/plain": [
       "array([2.33999059, 4.81382334, 0.80577116])"
      ]
     },
     "execution_count": 6,
     "metadata": {},
     "output_type": "execute_result"
    }
   ],
   "source": [
    "np.mean(np.abs(errorscale1),axis=0)"
   ]
  },
  {
   "cell_type": "code",
   "execution_count": 7,
   "metadata": {},
   "outputs": [],
   "source": [
    "errorscale2=trace.get_values('MultiAlign_error_scale_DS2')"
   ]
  },
  {
   "cell_type": "code",
   "execution_count": 8,
   "metadata": {},
   "outputs": [
    {
     "data": {
      "text/plain": [
       "array([0.59611901, 1.90050301, 0.48541609])"
      ]
     },
     "execution_count": 8,
     "metadata": {},
     "output_type": "execute_result"
    }
   ],
   "source": [
    "np.mean(np.abs(errorscale2),axis=0)"
   ]
  },
  {
   "cell_type": "code",
   "execution_count": 9,
   "metadata": {},
   "outputs": [],
   "source": [
    "errorscale3=trace.get_values('MultiAlign_error_scale_DS3')"
   ]
  },
  {
   "cell_type": "code",
   "execution_count": 10,
   "metadata": {},
   "outputs": [
    {
     "data": {
      "text/plain": [
       "array([2.6255734 , 7.05143474, 0.92719312])"
      ]
     },
     "execution_count": 10,
     "metadata": {},
     "output_type": "execute_result"
    }
   ],
   "source": [
    "np.mean(np.abs(errorscale3),axis=0)"
   ]
  },
  {
   "cell_type": "code",
   "execution_count": 11,
   "metadata": {},
   "outputs": [
    {
     "data": {
      "text/plain": [
       "([0.0,\n",
       "  0.7583743428660441,\n",
       "  2.275123028598133,\n",
       "  12.133989485860521,\n",
       "  44.74408622911314],\n",
       " [0.0,\n",
       "  0.40580402223459927,\n",
       "  0.8116080444711362,\n",
       "  4.463844244580594,\n",
       "  17.043768933857045],\n",
       " [0.0,\n",
       "  6.637344271984211,\n",
       "  13.274688543969482,\n",
       "  73.01078699183059,\n",
       "  298.6804922392906])"
      ]
     },
     "execution_count": 11,
     "metadata": {},
     "output_type": "execute_result"
    }
   ],
   "source": [
    "xlevels=tc.mf.util.find_credible_levels(x=errorscale2[:,0],y=errorscale3[:,0])\n",
    "ylevels=tc.mf.util.find_credible_levels(errorscale2[:,1],errorscale3[:,1])\n",
    "zlevels=tc.mf.util.find_credible_levels(errorscale2[:,2],errorscale3[:,2])\n",
    "xlevels, ylevels, zlevels"
   ]
  },
  {
   "cell_type": "code",
   "execution_count": 12,
   "metadata": {},
   "outputs": [
    {
     "data": {
      "text/plain": [
       "Text(0, 0.5, 'Errorscale3')"
      ]
     },
     "execution_count": 12,
     "metadata": {},
     "output_type": "execute_result"
    },
    {
     "data": {
      "image/png": "[encoded data removed]",
      "text/plain": [
       "<Figure size 432x288 with 1 Axes>"
      ]
     },
     "metadata": {
      "needs_background": "light"
     },
     "output_type": "display_data"
    }
   ],
   "source": [
    "ax = sns.kdeplot(errorscale2[:,0], errorscale3[:,0],cmap=\"Reds\",shade=True, shade_lowest=False, levels=xlevels)\n",
    "ax = sns.kdeplot(errorscale2[:,1], errorscale3[:,1],cmap=\"Blues\",shade=True, shade_lowest=False, levels=ylevels)\n",
    "ax = sns.kdeplot(errorscale2[:,2], errorscale3[:,2],cmap=\"Greens\",shade=True, shade_lowest=False, levels=zlevels)\n",
    "ax.set_xlabel('Errorscale2')\n",
    "ax.set_ylabel('Errorscale3')"
   ]
  },
  {
   "cell_type": "code",
   "execution_count": 13,
   "metadata": {},
   "outputs": [],
   "source": [
    "diffs,errors = model.calc_diff(trace=trace)"
   ]
  },
  {
   "cell_type": "code",
   "execution_count": 14,
   "metadata": {},
   "outputs": [
    {
     "data": {
      "text/plain": [
       "dict_keys(['DS1-DS2', 'DS1-DS3', 'DS2-DS3'])"
      ]
     },
     "execution_count": 14,
     "metadata": {},
     "output_type": "execute_result"
    }
   ],
   "source": [
    "diffs.keys()"
   ]
  },
  {
   "cell_type": "code",
   "execution_count": 15,
   "metadata": {},
   "outputs": [],
   "source": [
    "sigerror = {}\n",
    "for k in diffs:\n",
    "    sigerror[k] = np.mean(diffs[k]/errors[k], axis=0)\n"
   ]
  },
  {
   "cell_type": "code",
   "execution_count": 16,
   "metadata": {},
   "outputs": [
    {
     "data": {
      "text/plain": [
       "(3, 1627)"
      ]
     },
     "execution_count": 16,
     "metadata": {},
     "output_type": "execute_result"
    }
   ],
   "source": [
    "np.shape(sigerror['DS1-DS3'])"
   ]
  },
  {
   "cell_type": "code",
   "execution_count": 17,
   "metadata": {},
   "outputs": [
    {
     "name": "stdout",
     "output_type": "stream",
     "text": [
      "DS1-DS2 0.7113296455644336\n",
      "DS1-DS3 0.692481048965376\n",
      "DS2-DS3 0.704978488014751\n"
     ]
    }
   ],
   "source": [
    "for k in sigerror:\n",
    "    print(k,np.sum(np.abs(sigerror[k].flat)<1)/len(sigerror[k].flat))"
   ]
  },
  {
   "cell_type": "code",
   "execution_count": 18,
   "metadata": {},
   "outputs": [
    {
     "name": "stdout",
     "output_type": "stream",
     "text": [
      "DS1-DS2 0.9649661954517517\n",
      "DS1-DS3 0.9467322270026634\n",
      "DS2-DS3 0.9543126408522844\n"
     ]
    }
   ],
   "source": [
    "for k in sigerror:\n",
    "    print(k,np.sum(np.abs(sigerror[k].flat)<2)/len(sigerror[k].flat))"
   ]
  },
  {
   "cell_type": "code",
   "execution_count": 23,
   "metadata": {},
   "outputs": [
    {
     "data": {
      "text/plain": [
       "(array([  4.,   6.,  16.,  19.,  61., 106., 229., 376., 558., 683., 707.,\n",
       "        692., 553., 410., 209., 127.,  66.,  33.,  10.,   8.,   3.,   2.,\n",
       "          1.,   0.,   1.,   0.,   0.,   0.,   0.,   1.]),\n",
       " array([-3.79500925, -3.43518145, -3.07535365, -2.71552585, -2.35569805,\n",
       "        -1.99587025, -1.63604245, -1.27621465, -0.91638685, -0.55655905,\n",
       "        -0.19673124,  0.16309656,  0.52292436,  0.88275216,  1.24257996,\n",
       "         1.60240776,  1.96223556,  2.32206336,  2.68189116,  3.04171896,\n",
       "         3.40154676,  3.76137456,  4.12120236,  4.48103016,  4.84085796,\n",
       "         5.20068576,  5.56051356,  5.92034136,  6.28016916,  6.63999696,\n",
       "         6.99982476]),\n",
       " <a list of 30 Patch objects>)"
      ]
     },
     "execution_count": 23,
     "metadata": {},
     "output_type": "execute_result"
    },
    {
     "data": {
      "image/png": "[encoded data removed]",
      "text/plain": [
       "<Figure size 432x288 with 1 Axes>"
      ]
     },
     "metadata": {
      "needs_background": "light"
     },
     "output_type": "display_data"
    }
   ],
   "source": [
    "plt.hist(sigerror['DS2-DS3'].flat,30)"
   ]
  },
  {
   "cell_type": "code",
   "execution_count": 25,
   "metadata": {},
   "outputs": [],
   "source": [
    "diffdists = {}\n",
    "for k in diffs:\n",
    "    diffdists[k] = np.linalg.norm(diffs[k],axis=1)"
   ]
  },
  {
   "cell_type": "code",
   "execution_count": 27,
   "metadata": {},
   "outputs": [
    {
     "data": {
      "text/plain": [
       "(8000, 1627)"
      ]
     },
     "execution_count": 27,
     "metadata": {},
     "output_type": "execute_result"
    }
   ],
   "source": [
    "np.shape(diffdists['DS1-DS2'])"
   ]
  },
  {
   "cell_type": "code",
   "execution_count": 29,
   "metadata": {},
   "outputs": [],
   "source": [
    "meandiffdists = {}\n",
    "for k in diffdists:\n",
    "    meandiffdists[k] = np.mean(diffdists[k],axis=0)"
   ]
  },
  {
   "cell_type": "code",
   "execution_count": 35,
   "metadata": {},
   "outputs": [
    {
     "data": {
      "text/plain": [
       "(array([ 56., 194., 325., 363., 292., 180., 102.,  57.,  31.,  11.,   6.,\n",
       "          5.,   1.,   3.,   0.,   0.,   0.,   0.,   0.,   1.]),\n",
       " array([0.00154133, 0.00613556, 0.01072979, 0.01532402, 0.01991826,\n",
       "        0.02451249, 0.02910672, 0.03370095, 0.03829518, 0.04288941,\n",
       "        0.04748364, 0.05207787, 0.0566721 , 0.06126633, 0.06586056,\n",
       "        0.0704548 , 0.07504903, 0.07964326, 0.08423749, 0.08883172,\n",
       "        0.09342595]),\n",
       " <a list of 20 Patch objects>)"
      ]
     },
     "execution_count": 35,
     "metadata": {},
     "output_type": "execute_result"
    },
    {
     "data": {
      "image/png": "[encoded data removed]",
      "text/plain": [
       "<Figure size 432x288 with 1 Axes>"
      ]
     },
     "metadata": {
      "needs_background": "light"
     },
     "output_type": "display_data"
    }
   ],
   "source": [
    "plt.hist(meandiffdists['DS1-DS2'],20)"
   ]
  },
  {
   "cell_type": "markdown",
   "metadata": {},
   "source": []
  }
 ],
 "metadata": {
  "kernelspec": {
   "display_name": "Python 3",
   "language": "python",
   "name": "python3"
  },
  "language_info": {
   "codemirror_mode": {
    "name": "ipython",
    "version": 3
   },
   "file_extension": ".py",
   "mimetype": "text/x-python",
   "name": "python",
   "nbconvert_exporter": "python",
   "pygments_lexer": "ipython3",
   "version": "3.6.8"
  }
 },
 "nbformat": 4,
 "nbformat_minor": 2
}
